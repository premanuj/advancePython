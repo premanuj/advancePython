{
 "cells": [
  {
   "cell_type": "code",
   "execution_count": 7,
   "metadata": {},
   "outputs": [],
   "source": [
    "import json\n",
    "import xml.etree.ElementTree as et"
   ]
  },
  {
   "cell_type": "code",
   "execution_count": 8,
   "metadata": {},
   "outputs": [],
   "source": [
    "class Course:\n",
    "    def __init__(self, course_id, title, duration):\n",
    "        self.course_id = course_id\n",
    "        self.title= title\n",
    "        self.duration = duration"
   ]
  },
  {
   "cell_type": "markdown",
   "metadata": {},
   "source": [
    "# Normal Serializer : we will improve it latter"
   ]
  },
  {
   "cell_type": "code",
   "execution_count": 23,
   "metadata": {},
   "outputs": [],
   "source": [
    "class CourseSerializer:\n",
    "    def serialize(self, course, format_):\n",
    "        if format_.upper() == \"JSON\":\n",
    "            course_info = {\n",
    "                \"id\": course.course_id,\n",
    "                \"title\": course.title,\n",
    "                \"duration\": course.duration\n",
    "            }\n",
    "            return json.dumps(course_info)\n",
    "        elif format_.upper() == \"XML\":\n",
    "            course_info = et.Element('course', attrib={'id': str(course.course_id)})\n",
    "            title = et.SubElement(course_info, 'title')\n",
    "            title.text = course.title\n",
    "            duration = et.SubElement(course_info, 'duration')\n",
    "            duration.text = course.duration\n",
    "            return et.tostring(course_info, encoding='unicode')\n",
    "        else:\n",
    "            raise ValueError(\"Invalid Format\")"
   ]
  },
  {
   "cell_type": "code",
   "execution_count": 24,
   "metadata": {},
   "outputs": [],
   "source": [
    "course = Course(1, \"Python\", \"3w\")"
   ]
  },
  {
   "cell_type": "code",
   "execution_count": 25,
   "metadata": {},
   "outputs": [],
   "source": [
    "serializer = CourseSerializer()"
   ]
  },
  {
   "cell_type": "code",
   "execution_count": 26,
   "metadata": {},
   "outputs": [
    {
     "data": {
      "text/plain": [
       "'{\"id\": 1, \"title\": \"Python\", \"duration\": \"3w\"}'"
      ]
     },
     "execution_count": 26,
     "metadata": {},
     "output_type": "execute_result"
    }
   ],
   "source": [
    "serializer.serialize(course, \"json\")"
   ]
  },
  {
   "cell_type": "code",
   "execution_count": 27,
   "metadata": {},
   "outputs": [
    {
     "data": {
      "text/plain": [
       "'<course id=\"1\"><title>Python</title><duration>3w</duration></course>'"
      ]
     },
     "execution_count": 27,
     "metadata": {},
     "output_type": "execute_result"
    }
   ],
   "source": [
    "serializer.serialize(course, \"xml\")"
   ]
  },
  {
   "cell_type": "markdown",
   "metadata": {},
   "source": [
    "we can see here a series of if, elif and else. To increase the readibility of the code we will create common interface"
   ]
  },
  {
   "cell_type": "code",
   "execution_count": 45,
   "metadata": {},
   "outputs": [],
   "source": [
    "class CourseSerializer:\n",
    "    def serialize(self, course, format_):\n",
    "        serializer = self._get_serializer(format_)\n",
    "        return serializer(course)\n",
    "        \n",
    "    def _get_serializer(self, format_):\n",
    "        if format_.upper() == \"JSON\":\n",
    "            return self._serialize_to_json\n",
    "        elif format_.upper() == \"XML\":\n",
    "            return self._serialize_to_xml\n",
    "        else:\n",
    "            raise ValueError(\"Invalid Format\")\n",
    "            \n",
    "    def _serialize_to_json(self, course):\n",
    "        course_info = {\n",
    "                    \"id\": course.course_id,\n",
    "                    \"title\": course.title,\n",
    "                    \"duration\": course.duration\n",
    "                }\n",
    "        return json.dumps(course_info)\n",
    "    \n",
    "    def _serialize_to_xml(self, course):\n",
    "        course_info = et.Element('course', attrib={'id': str(course.course_id)})\n",
    "        title = et.SubElement(course_info, 'title')\n",
    "        title.text = course.title\n",
    "        duration = et.SubElement(course_info, 'duration')\n",
    "        duration.text = course.duration\n",
    "        return et.tostring(course_info, encoding='unicode')"
   ]
  },
  {
   "cell_type": "code",
   "execution_count": 46,
   "metadata": {},
   "outputs": [],
   "source": [
    "course = Course(1, \"Python\", \"3w\")\n",
    "serializer = CourseSerializer()\n"
   ]
  },
  {
   "cell_type": "code",
   "execution_count": 47,
   "metadata": {},
   "outputs": [
    {
     "data": {
      "text/plain": [
       "'{\"id\": 1, \"title\": \"Python\", \"duration\": \"3w\"}'"
      ]
     },
     "execution_count": 47,
     "metadata": {},
     "output_type": "execute_result"
    }
   ],
   "source": [
    "serializer.serialize(course, \"json\")\n"
   ]
  },
  {
   "cell_type": "code",
   "execution_count": 48,
   "metadata": {},
   "outputs": [
    {
     "data": {
      "text/plain": [
       "'<course id=\"1\"><title>Python</title><duration>3w</duration></course>'"
      ]
     },
     "execution_count": 48,
     "metadata": {},
     "output_type": "execute_result"
    }
   ],
   "source": [
    "serializer.serialize(course, \"xml\")"
   ]
  },
  {
   "cell_type": "markdown",
   "metadata": {},
   "source": [
    "As we can see in above code, none of the method use self inside it. So it is good to seperation those methods as independent function"
   ]
  },
  {
   "cell_type": "code",
   "execution_count": 55,
   "metadata": {},
   "outputs": [],
   "source": [
    "class CourseSerializer:\n",
    "    def serialize(self, course, format_):\n",
    "        serializer = get_serializer(format_)\n",
    "        return serializer(course)\n",
    "        \n",
    "def get_serializer(format_):\n",
    "    if format_.upper() == \"JSON\":\n",
    "        return serialize_to_json\n",
    "    elif format_.upper() == \"XML\":\n",
    "        return serialize_to_xml\n",
    "    else:\n",
    "        raise ValueError(\"Invalid Format\")\n",
    "\n",
    "def serialize_to_json(course):\n",
    "    course_info = {\n",
    "                \"id\": course.course_id,\n",
    "                \"title\": course.title,\n",
    "                \"duration\": course.duration\n",
    "            }\n",
    "    return json.dumps(course_info)\n",
    "\n",
    "def serialize_to_xml(course):\n",
    "    course_info = et.Element('course', attrib={'id': str(course.course_id)})\n",
    "    title = et.SubElement(course_info, 'title')\n",
    "    title.text = course.title\n",
    "    duration = et.SubElement(course_info, 'duration')\n",
    "    duration.text = course.duration\n",
    "    return et.tostring(course_info, encoding='unicode')"
   ]
  },
  {
   "cell_type": "code",
   "execution_count": 56,
   "metadata": {},
   "outputs": [],
   "source": [
    "course = Course(1, \"Python\", \"3w\")\n",
    "serializer = CourseSerializer()\n"
   ]
  },
  {
   "cell_type": "code",
   "execution_count": 57,
   "metadata": {},
   "outputs": [
    {
     "data": {
      "text/plain": [
       "'{\"id\": 1, \"title\": \"Python\", \"duration\": \"3w\"}'"
      ]
     },
     "execution_count": 57,
     "metadata": {},
     "output_type": "execute_result"
    }
   ],
   "source": [
    "serializer.serialize(course, \"json\")"
   ]
  },
  {
   "cell_type": "code",
   "execution_count": 58,
   "metadata": {},
   "outputs": [
    {
     "data": {
      "text/plain": [
       "'<course id=\"1\"><title>Python</title><duration>3w</duration></course>'"
      ]
     },
     "execution_count": 58,
     "metadata": {},
     "output_type": "execute_result"
    }
   ],
   "source": [
    "serializer.serialize(course, \"xml\")"
   ]
  },
  {
   "cell_type": "markdown",
   "metadata": {},
   "source": [
    "# Factory Method"
   ]
  },
  {
   "cell_type": "code",
   "execution_count": 60,
   "metadata": {},
   "outputs": [],
   "source": [
    "import json\n",
    "from xml.etree.ElementTree import Element as et"
   ]
  },
  {
   "cell_type": "code",
   "execution_count": 61,
   "metadata": {},
   "outputs": [],
   "source": [
    "class JsonSerializer:\n",
    "    def __init__(self):\n",
    "        self._current_object = None\n",
    "    def start_object(self, object_name, object_id):\n",
    "        self._current_object = {\n",
    "            \"id\": object_id\n",
    "        }\n",
    "    def add_property(self, name, value):\n",
    "        self._current_object[name] = value\n",
    "    def to_str(self):\n",
    "        return json.dumps(self._current_object)\n",
    "\n",
    "class XmlSerializer:\n",
    "    def __init__(self):\n",
    "        self._element = None\n",
    "    def start_object(self, object_name, object_id):\n",
    "        self._element = et.Element(object_name, attrib={'id': object_id})\n",
    "    def add_property(self):\n",
    "        prop = et.SubElement(self._element, name)\n",
    "        prop.text = value\n",
    "    def to_str(self):\n",
    "        return et.tostring(self._element, encoding='unicode')"
   ]
  },
  {
   "cell_type": "code",
   "execution_count": null,
   "metadata": {},
   "outputs": [],
   "source": [
    "class ObjectSerializer:\n",
    "    def serialize(self, serializable, format_):\n",
    "        serializer = factory.get_serializer(format_)\n",
    "        serializable.serialize(serializer)\n",
    "        return serializer.to_str()"
   ]
  }
 ],
 "metadata": {
  "kernelspec": {
   "display_name": "Python 3",
   "language": "python",
   "name": "python3"
  },
  "language_info": {
   "codemirror_mode": {
    "name": "ipython",
    "version": 3
   },
   "file_extension": ".py",
   "mimetype": "text/x-python",
   "name": "python",
   "nbconvert_exporter": "python",
   "pygments_lexer": "ipython3",
   "version": "3.7.3"
  }
 },
 "nbformat": 4,
 "nbformat_minor": 2
}
